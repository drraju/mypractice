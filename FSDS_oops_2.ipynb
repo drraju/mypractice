{
  "nbformat": 4,
  "nbformat_minor": 0,
  "metadata": {
    "kernelspec": {
      "display_name": "Python 3",
      "language": "python",
      "name": "python3"
    },
    "language_info": {
      "codemirror_mode": {
        "name": "ipython",
        "version": 3
      },
      "file_extension": ".py",
      "mimetype": "text/x-python",
      "name": "python",
      "nbconvert_exporter": "python",
      "pygments_lexer": "ipython3",
      "version": "3.8.5"
    },
    "colab": {
      "name": "Copy of oops 2.ipynb",
      "provenance": [],
      "include_colab_link": true
    }
  },
  "cells": [
    {
      "cell_type": "markdown",
      "metadata": {
        "id": "view-in-github",
        "colab_type": "text"
      },
      "source": [
        "<a href=\"https://colab.research.google.com/github/drraju/mypractice/blob/master/FSDS_oops_2.ipynb\" target=\"_parent\"><img src=\"https://colab.research.google.com/assets/colab-badge.svg\" alt=\"Open In Colab\"/></a>"
      ]
    },
    {
      "cell_type": "code",
      "metadata": {
        "id": "Ke_0aQ7IrMEn"
      },
      "source": [
        "class test:\n",
        "    def __init__(self, a , b  , c ,d ) :\n",
        "        self.__a = a \n",
        "        self.b = b\n",
        "        self.c = c \n",
        "        self.d = d \n",
        "    def test_custome(self , v ) : \n",
        "         return v - self.__a\n",
        "    \n",
        "    def __str__(self):\n",
        "        return \"this is my test code for abstraction\""
      ],
      "execution_count": null,
      "outputs": []
    },
    {
      "cell_type": "code",
      "metadata": {
        "id": "qAWu9XKsrMEv"
      },
      "source": [
        "o = test(4,5,6,7)"
      ],
      "execution_count": null,
      "outputs": []
    },
    {
      "cell_type": "code",
      "metadata": {
        "id": "U2sahTFgrMEw",
        "outputId": "f117da70-5d33-44ec-d768-7f15c163740f"
      },
      "source": [
        "o.test_custome(7)"
      ],
      "execution_count": null,
      "outputs": [
        {
          "output_type": "execute_result",
          "data": {
            "text/plain": [
              "3"
            ]
          },
          "metadata": {
            "tags": []
          },
          "execution_count": 21
        }
      ]
    },
    {
      "cell_type": "code",
      "metadata": {
        "id": "gFYH0pNQrMEy",
        "outputId": "f78baf84-8b7e-45ea-ce74-3b246982b5ec"
      },
      "source": [
        "o._test__a"
      ],
      "execution_count": null,
      "outputs": [
        {
          "output_type": "execute_result",
          "data": {
            "text/plain": [
              "4"
            ]
          },
          "metadata": {
            "tags": []
          },
          "execution_count": 30
        }
      ]
    },
    {
      "cell_type": "code",
      "metadata": {
        "id": "Vig_yNyVrMEy",
        "outputId": "c5e2eb1d-0b29-46dc-910b-bee3b402024f"
      },
      "source": [
        "class test1(test):\n",
        "    def __init__(self, j , *args):\n",
        "        super(test1,self).__init__(*args)\n",
        "        self.j = j \n",
        "        \n",
        "m = test1(4,5,6,7,8)\n",
        "m.b\n"
      ],
      "execution_count": null,
      "outputs": [
        {
          "output_type": "execute_result",
          "data": {
            "text/plain": [
              "4"
            ]
          },
          "metadata": {
            "tags": []
          },
          "execution_count": 34
        }
      ]
    },
    {
      "cell_type": "code",
      "metadata": {
        "id": "bWbxQZ0RrMEy",
        "outputId": "0edd623c-8cf1-484b-c917-cc7dac67e60a"
      },
      "source": [
        "m._test__a"
      ],
      "execution_count": null,
      "outputs": [
        {
          "output_type": "execute_result",
          "data": {
            "text/plain": [
              "5"
            ]
          },
          "metadata": {
            "tags": []
          },
          "execution_count": 42
        }
      ]
    },
    {
      "cell_type": "code",
      "metadata": {
        "id": "cB13MvW2rMEz",
        "outputId": "1abc6b4d-7e46-43a1-86e5-9caf640c0a85"
      },
      "source": [
        "m.test_custome(8)"
      ],
      "execution_count": null,
      "outputs": [
        {
          "output_type": "execute_result",
          "data": {
            "text/plain": [
              "3"
            ]
          },
          "metadata": {
            "tags": []
          },
          "execution_count": 36
        }
      ]
    },
    {
      "cell_type": "code",
      "metadata": {
        "id": "VGE-Jb96rMEz",
        "outputId": "44490d6f-a0f2-4117-c628-9424b4743596"
      },
      "source": [
        "m.b"
      ],
      "execution_count": null,
      "outputs": [
        {
          "output_type": "execute_result",
          "data": {
            "text/plain": [
              "6"
            ]
          },
          "metadata": {
            "tags": []
          },
          "execution_count": 37
        }
      ]
    },
    {
      "cell_type": "code",
      "metadata": {
        "id": "KXlE4ihWrME0",
        "outputId": "41cec479-c50f-4a7e-c295-18863d3dd4be"
      },
      "source": [
        "m.c"
      ],
      "execution_count": null,
      "outputs": [
        {
          "output_type": "execute_result",
          "data": {
            "text/plain": [
              "7"
            ]
          },
          "metadata": {
            "tags": []
          },
          "execution_count": 38
        }
      ]
    },
    {
      "cell_type": "code",
      "metadata": {
        "id": "HFU0JW0jrME0",
        "outputId": "7919b3bf-0f69-4f60-fb24-c208189ca71e"
      },
      "source": [
        "m.d"
      ],
      "execution_count": null,
      "outputs": [
        {
          "output_type": "execute_result",
          "data": {
            "text/plain": [
              "8"
            ]
          },
          "metadata": {
            "tags": []
          },
          "execution_count": 39
        }
      ]
    },
    {
      "cell_type": "code",
      "metadata": {
        "id": "Z8q-LL96rME0"
      },
      "source": [
        "1.create class test and test1\n",
        "2.inherit test and test1 into test2\n",
        "3.function a in test\n",
        "4.function a in test1\n",
        "5.test2 should inherit function-a from test1 and test both\n"
      ],
      "execution_count": null,
      "outputs": []
    },
    {
      "cell_type": "code",
      "metadata": {
        "id": "aqeFO9fErME1",
        "outputId": "8ec02186-5b7b-49e3-8deb-78a64b5f50de"
      },
      "source": [
        "class test:\n",
        "    def a(self):\n",
        "        print(\"test class\")\n",
        "class test1:\n",
        "    def a(self):\n",
        "        print(\"test1 class\")\n",
        "class test2():\n",
        "    t=test()\n",
        "    t.a()\n",
        "    t1=test1()\n",
        "    t1.a()\n",
        "    #print(\"test2 class\")\n",
        "t2=test2()\n",
        "\n"
      ],
      "execution_count": null,
      "outputs": [
        {
          "output_type": "stream",
          "text": [
            "test class\n",
            "test1 class\n"
          ],
          "name": "stdout"
        }
      ]
    },
    {
      "cell_type": "code",
      "metadata": {
        "id": "7Mg-zM0drME1",
        "outputId": "5da84f20-b2b6-4b3e-8a08-f20cc9977538"
      },
      "source": [
        "class test1():\n",
        "    def A():\n",
        "        print(\"Hello i am from class test1\")\n",
        "class test2():\n",
        "        def A():\n",
        "            print(\"Hello i am from class test2\")\n",
        "\n",
        "class test3(test1,test2):\n",
        "    test1.A()\n",
        "    test2.A()\n"
      ],
      "execution_count": null,
      "outputs": [
        {
          "output_type": "stream",
          "text": [
            "Hello i am from class test1\n",
            "Hello i am from class test2\n"
          ],
          "name": "stdout"
        }
      ]
    },
    {
      "cell_type": "code",
      "metadata": {
        "id": "Mtmxqf8ArME1",
        "outputId": "87ab0473-5c2d-40cd-cfc5-3f879832a5dc"
      },
      "source": [
        "class test:\n",
        "    def __init__(self):\n",
        "        pass\n",
        "    def a(self):\n",
        "        return \"This belongs to test.\"\n",
        "        \n",
        "class test1:\n",
        "    def __init__(self):\n",
        "        pass\n",
        "    def a(self):\n",
        "        return \"This belongs to test1.\"\n",
        "class test2(test,test1):\n",
        "        def __init__(self):\n",
        "            pass\n",
        "            \n",
        "o = test2()\n",
        "print(o.a())\n",
        "print(o.a())\n"
      ],
      "execution_count": null,
      "outputs": [
        {
          "output_type": "stream",
          "text": [
            "This belongs to test.\n",
            "This belongs to test.\n"
          ],
          "name": "stdout"
        }
      ]
    },
    {
      "cell_type": "code",
      "metadata": {
        "id": "vRbu13_PrME2"
      },
      "source": [
        "class testa:\n",
        "    def __init__(self,a,b,c,d):\n",
        "        self.__a=a\n",
        "        self.b=b\n",
        "        self.c=c\n",
        "        self.d=d\n",
        "    def test_customer(self,v):\n",
        "        return v - self.__a\n",
        "class testb:\n",
        "    def __init__(self,a,b,c,d):\n",
        "        self.__a=a\n",
        "        self.b=b\n",
        "        self.c=c\n",
        "        self.d=d\n",
        "    def test_customer(self,v):\n",
        "        return v - self.b\n",
        "    \n",
        "class testc(testa,testb):\n",
        "    def __init__ (self, j, *args):\n",
        "        super(testa, self).__init__(*args)\n",
        "        self.j= j\n",
        "    def __init__ (self, k, *args):\n",
        "        super(testb, self).__init__(*args)\n",
        "        self.k= k\n"
      ],
      "execution_count": null,
      "outputs": []
    },
    {
      "cell_type": "code",
      "metadata": {
        "id": "0-MPpXlSrME2",
        "outputId": "30231f2e-a58f-4d8c-8420-59dba2367db2"
      },
      "source": [
        "class Test:\n",
        "    def a(self):\n",
        "        return \"This is class Test\"\n",
        "\n",
        "class Test1:\n",
        "    def a(self):\n",
        "        return \"This is class Test1\"\n",
        "\n",
        "class Test2(Test, Test1):\n",
        "    \"\"\"Test class methods overrides Test1 class methods\"\"\"\n",
        "    pass\n",
        "\n",
        "t2 = Test2()\n",
        "print(t2.a())\n",
        "\n",
        "class Test2(Test1, Test):\n",
        "    \"\"\"Test1 class methods overrides Test class methods\"\"\"\n",
        "    pass\n",
        "\n",
        "t2_ = Test2()\n",
        "print(t2_.a())\n"
      ],
      "execution_count": null,
      "outputs": [
        {
          "output_type": "stream",
          "text": [
            "This is class Test\n",
            "This is class Test1\n"
          ],
          "name": "stdout"
        }
      ]
    },
    {
      "cell_type": "code",
      "metadata": {
        "id": "CVRY7yFhrME3"
      },
      "source": [
        "class A:\n",
        "    def a(self):\n",
        "        return \"This is A ==> a method\"\n",
        "\n",
        "class B: \n",
        "    def a(self):\n",
        "        return \"This is B ==> a method\"\n",
        "\n",
        "class C(A,B):\n",
        "    def a(self):\n",
        "        return super(A,self).a()\n",
        "    \n",
        "    def a(self):\n",
        "        return super(B,self).a()\n"
      ],
      "execution_count": null,
      "outputs": []
    },
    {
      "cell_type": "code",
      "metadata": {
        "id": "oBfAHxnUrME3",
        "outputId": "4cf93131-b92a-4dac-e708-1f1c00dfe20a"
      },
      "source": [
        "c= C()\n",
        "c.a()"
      ],
      "execution_count": null,
      "outputs": [
        {
          "output_type": "error",
          "ename": "AttributeError",
          "evalue": "'super' object has no attribute 'a'",
          "traceback": [
            "\u001b[1;31m---------------------------------------------------------------------------\u001b[0m",
            "\u001b[1;31mAttributeError\u001b[0m                            Traceback (most recent call last)",
            "\u001b[1;32m<ipython-input-58-ecc19922f645>\u001b[0m in \u001b[0;36m<module>\u001b[1;34m\u001b[0m\n\u001b[0;32m      1\u001b[0m \u001b[0mc\u001b[0m\u001b[1;33m=\u001b[0m \u001b[0mC\u001b[0m\u001b[1;33m(\u001b[0m\u001b[1;33m)\u001b[0m\u001b[1;33m\u001b[0m\u001b[1;33m\u001b[0m\u001b[0m\n\u001b[1;32m----> 2\u001b[1;33m \u001b[0mc\u001b[0m\u001b[1;33m.\u001b[0m\u001b[0ma\u001b[0m\u001b[1;33m(\u001b[0m\u001b[1;33m)\u001b[0m\u001b[1;33m\u001b[0m\u001b[1;33m\u001b[0m\u001b[0m\n\u001b[0m",
            "\u001b[1;32m<ipython-input-56-644af212cc6c>\u001b[0m in \u001b[0;36ma\u001b[1;34m(self)\u001b[0m\n\u001b[0;32m     12\u001b[0m \u001b[1;33m\u001b[0m\u001b[0m\n\u001b[0;32m     13\u001b[0m     \u001b[1;32mdef\u001b[0m \u001b[0ma\u001b[0m\u001b[1;33m(\u001b[0m\u001b[0mself\u001b[0m\u001b[1;33m)\u001b[0m\u001b[1;33m:\u001b[0m\u001b[1;33m\u001b[0m\u001b[1;33m\u001b[0m\u001b[0m\n\u001b[1;32m---> 14\u001b[1;33m         \u001b[1;32mreturn\u001b[0m \u001b[0msuper\u001b[0m\u001b[1;33m(\u001b[0m\u001b[0mB\u001b[0m\u001b[1;33m,\u001b[0m\u001b[0mself\u001b[0m\u001b[1;33m)\u001b[0m\u001b[1;33m.\u001b[0m\u001b[0ma\u001b[0m\u001b[1;33m(\u001b[0m\u001b[1;33m)\u001b[0m\u001b[1;33m\u001b[0m\u001b[1;33m\u001b[0m\u001b[0m\n\u001b[0m",
            "\u001b[1;31mAttributeError\u001b[0m: 'super' object has no attribute 'a'"
          ]
        }
      ]
    },
    {
      "cell_type": "code",
      "metadata": {
        "id": "XtxTAeYurME3"
      },
      "source": [
        "class test:\n",
        "    def a():\n",
        "        return \"This belongs to test\"\n",
        "\n",
        "class test1:\n",
        "    def a():\n",
        "        return \"This belongs to test1\"\n",
        "\n",
        "class test2(test,test1):\n",
        "    def e():\n",
        "        super(test).a()\n",
        "    def j():\n",
        "        super(test1).a()\n"
      ],
      "execution_count": null,
      "outputs": []
    },
    {
      "cell_type": "code",
      "metadata": {
        "id": "4kdqgi3orME4"
      },
      "source": [
        "t = test2()"
      ],
      "execution_count": null,
      "outputs": []
    },
    {
      "cell_type": "code",
      "metadata": {
        "id": "7GjESz6lrME4",
        "outputId": "38caabf8-7c8e-4ba8-bfff-0300909b7ea0"
      },
      "source": [
        "t.e()"
      ],
      "execution_count": null,
      "outputs": [
        {
          "output_type": "error",
          "ename": "TypeError",
          "evalue": "e() takes 0 positional arguments but 1 was given",
          "traceback": [
            "\u001b[1;31m---------------------------------------------------------------------------\u001b[0m",
            "\u001b[1;31mTypeError\u001b[0m                                 Traceback (most recent call last)",
            "\u001b[1;32m<ipython-input-65-e5fcf2b8fc1f>\u001b[0m in \u001b[0;36m<module>\u001b[1;34m\u001b[0m\n\u001b[1;32m----> 1\u001b[1;33m \u001b[0mt\u001b[0m\u001b[1;33m.\u001b[0m\u001b[0me\u001b[0m\u001b[1;33m(\u001b[0m\u001b[1;33m)\u001b[0m\u001b[1;33m\u001b[0m\u001b[1;33m\u001b[0m\u001b[0m\n\u001b[0m",
            "\u001b[1;31mTypeError\u001b[0m: e() takes 0 positional arguments but 1 was given"
          ]
        }
      ]
    },
    {
      "cell_type": "code",
      "metadata": {
        "id": "RQcI7IWmrME4",
        "outputId": "695ff654-7e25-45ba-c121-70886280be60"
      },
      "source": [
        "class test:\n",
        "    \n",
        "    def a(self):\n",
        "        print('function a from class test')\n",
        "\n",
        "class test1:\n",
        "    def a(self):\n",
        "        print('function a from class test1')\n",
        "\n",
        "class test2():\n",
        "    def a(self):\n",
        "        test.a(self)\n",
        "        test1.a(self)\n",
        "        \n",
        "t = test2()\n",
        "t.a()\n"
      ],
      "execution_count": null,
      "outputs": [
        {
          "output_type": "stream",
          "text": [
            "function a from class test\n",
            "function a from class test1\n"
          ],
          "name": "stdout"
        }
      ]
    },
    {
      "cell_type": "code",
      "metadata": {
        "id": "RiNxLWA-rME5",
        "outputId": "1a47f4f4-fc2b-4e43-bbc3-19086451b19d"
      },
      "source": [
        "class test:\n",
        "   \n",
        "    def a(self):\n",
        "        print(\"This is from class test\")\n",
        "        \n",
        "class test1:\n",
        "    \n",
        "    def a(self):\n",
        "        print(\"This is from class test1\")\n",
        "        \n",
        "\n",
        "        \n",
        "class test2(test,test1):\n",
        "    def a(self):\n",
        "        super(test2,self).a()\n",
        "        \n",
        "    \n",
        "    \n",
        "    \n",
        "t2=test2()\n",
        "t2.a()\n"
      ],
      "execution_count": null,
      "outputs": [
        {
          "output_type": "stream",
          "text": [
            "This is from class test\n"
          ],
          "name": "stdout"
        }
      ]
    },
    {
      "cell_type": "code",
      "metadata": {
        "id": "Itr9kb3srME5",
        "outputId": "4ba980ae-8bc7-48b8-c450-2bdc65156133"
      },
      "source": [
        "class test:\n",
        "    def a(self):\n",
        "        print(\"this belongs to test\")\n",
        "class test1:\n",
        "    def a(self):\n",
        "        print(\"this belongs to test1\")\n",
        "        \n",
        "        \n",
        "class test2(test,test1):\n",
        "    def c(self):\n",
        "        print(\"test2\")\n",
        "obj = test2()\n",
        "obj.c()\n",
        "obj.a()\n",
        "test1.a(obj)\n"
      ],
      "execution_count": null,
      "outputs": [
        {
          "output_type": "stream",
          "text": [
            "test2\n",
            "this belongs to test\n",
            "this belongs to test1\n"
          ],
          "name": "stdout"
        }
      ]
    },
    {
      "cell_type": "code",
      "metadata": {
        "id": "rAYqSKicrME6",
        "outputId": "4d6f2335-8c13-4fd8-c8f2-72652942faa5"
      },
      "source": [
        "class test:\n",
        "    def a(self):\n",
        "        return 'this a function of class test'\n",
        "ob1=test()\n",
        "\n",
        "class test1:\n",
        "    def a(self):\n",
        "        return 'this a function of class test1'\n",
        "ob2=test1()\n",
        "\n",
        "\n",
        "\n",
        "class test2(test,test1):\n",
        "    def x(self):\n",
        "        return ob1.a(),ob2.a()\n",
        "    \n",
        "ob3=test2()\n",
        "c1,c2=ob3.x()\n",
        "print(c1)\n",
        "print(c2)\n"
      ],
      "execution_count": null,
      "outputs": [
        {
          "output_type": "stream",
          "text": [
            "this a function of class test\n",
            "this a function of class test1\n"
          ],
          "name": "stdout"
        }
      ]
    },
    {
      "cell_type": "code",
      "metadata": {
        "id": "vVWVvKM1rME6",
        "outputId": "62d0c2d5-21e9-4c51-e4c5-d5d3f819a99b"
      },
      "source": [
        "class Class1:\n",
        "    def m(self):\n",
        "        print(\"In Class1\")\n",
        "  \n",
        "\n",
        "class Class2(Class1):\n",
        "    def m(self):\n",
        "        print(\"In Class2\")\n",
        "        super().m()\n",
        "  \n",
        " \n",
        "class Class4(Class2, Class1):\n",
        "        def m(self):\n",
        "            print(\"In Class4\")   \n",
        "            super().m()\n",
        "    \n",
        "\n",
        "Class4.m()\n"
      ],
      "execution_count": null,
      "outputs": [
        {
          "output_type": "error",
          "ename": "TypeError",
          "evalue": "m() missing 1 required positional argument: 'self'",
          "traceback": [
            "\u001b[1;31m---------------------------------------------------------------------------\u001b[0m",
            "\u001b[1;31mTypeError\u001b[0m                                 Traceback (most recent call last)",
            "\u001b[1;32m<ipython-input-75-08c16ed09cfe>\u001b[0m in \u001b[0;36m<module>\u001b[1;34m\u001b[0m\n\u001b[0;32m     16\u001b[0m \u001b[1;33m\u001b[0m\u001b[0m\n\u001b[0;32m     17\u001b[0m \u001b[1;33m\u001b[0m\u001b[0m\n\u001b[1;32m---> 18\u001b[1;33m \u001b[0mClass4\u001b[0m\u001b[1;33m.\u001b[0m\u001b[0mm\u001b[0m\u001b[1;33m(\u001b[0m\u001b[1;33m)\u001b[0m\u001b[1;33m\u001b[0m\u001b[1;33m\u001b[0m\u001b[0m\n\u001b[0m",
            "\u001b[1;31mTypeError\u001b[0m: m() missing 1 required positional argument: 'self'"
          ]
        }
      ]
    },
    {
      "cell_type": "code",
      "metadata": {
        "id": "BNiFEDcFrME7",
        "outputId": "c1f26a4b-a8cb-46b6-e7ac-31bae91f57b2"
      },
      "source": [
        "class test:\n",
        "\tdef A(self):\n",
        "\t\tprint(\"In Class test\")\n",
        "\t\t\n",
        "class test1(test):\n",
        "\tdef A(self):\n",
        "\t\tprint(\"In Class test1\")\n",
        "\n",
        "class test2(test1):\n",
        "    pass\n",
        "\n",
        "obj = test2()\n",
        "test.A(obj)\n",
        "test1.A(obj)\n"
      ],
      "execution_count": null,
      "outputs": [
        {
          "output_type": "stream",
          "text": [
            "In Class test\n",
            "In Class test1\n"
          ],
          "name": "stdout"
        }
      ]
    },
    {
      "cell_type": "code",
      "metadata": {
        "id": "rSNvDVSDrME7",
        "outputId": "973a3cb6-5208-4c5b-ed58-1b63495523c2"
      },
      "source": [
        "class Ineuron:\n",
        "    company_website = 'https://ineuron.ai/'\n",
        "    name = 'iNeuron'\n",
        " \n",
        "    def contact_details(self):\n",
        "        print('Contact us at ', self.company_website)\n",
        " \n",
        " \n",
        "class Datascience(Ineuron):\n",
        "    def __init__(self):\n",
        "        self.year_of_establishment= 2018\n",
        " \n",
        "    def est_details(self):\n",
        "        print('{0} Company was established in {1}'\n",
        "              .format(self.name,self.year_of_establishment))\n",
        " \n",
        " \n",
        "ds = Datascience()\n",
        "ds.est_details()"
      ],
      "execution_count": null,
      "outputs": [
        {
          "output_type": "stream",
          "text": [
            "iNeuron Company was established in 2018\n"
          ],
          "name": "stdout"
        }
      ]
    },
    {
      "cell_type": "code",
      "metadata": {
        "id": "gJ3d_vZjrME8",
        "outputId": "84d73840-3bb9-47bd-ac93-1d642f065ee4"
      },
      "source": [
        "class OS:\n",
        "    multi_task = True\n",
        "    os_name = 'Windows OS'\n",
        "    name = \"sudh\"\n",
        " \n",
        " \n",
        "class windows(OS, Ineuron):\n",
        "    def __init__(self):\n",
        "        if self.multi_task is True:\n",
        "            print('multi_task')\n",
        "        print('Name: {}'.format(self.name))\n",
        " \n",
        " \n",
        "windows = windows()\n",
        " "
      ],
      "execution_count": null,
      "outputs": [
        {
          "output_type": "stream",
          "text": [
            "multi_task\n",
            "Name: sudh\n"
          ],
          "name": "stdout"
        }
      ]
    },
    {
      "cell_type": "code",
      "metadata": {
        "id": "wnKvW9PYrME8",
        "outputId": "ab6d4362-2195-4b09-c8d4-94cc8ea6b1cd"
      },
      "source": [
        "class windows(Ineuron,OS):\n",
        "    def __init__(self):\n",
        "        if self.multi_task is True:\n",
        "            print('multi_task')\n",
        "        print('Name: {}'.format(self.name))\n",
        " \n",
        " \n",
        "windows = windows()"
      ],
      "execution_count": null,
      "outputs": [
        {
          "output_type": "stream",
          "text": [
            "multi_task\n",
            "Name: iNeuron\n"
          ],
          "name": "stdout"
        }
      ]
    },
    {
      "cell_type": "code",
      "metadata": {
        "id": "4Dw7f4RjrME8",
        "outputId": "49cc3aa2-9e50-4dde-e8cc-002804fc31f6"
      },
      "source": [
        "class iNeuron:\n",
        "    num_of_courses = 12\n",
        " \n",
        " \n",
        "class Datascience(iNeuron):\n",
        "    course_type = 'Data-Science'\n",
        " \n",
        " \n",
        "class AI(Datascience):\n",
        "    def __init__(self):\n",
        "        self.company = \"iNeuron\"\n",
        "        print('The company {0} offers total {1} different types of courses. Most trending course is {2}'.format(self.company,self.num_of_courses,self.course_type))\n",
        " \n",
        " \n",
        "AI = AI()"
      ],
      "execution_count": null,
      "outputs": [
        {
          "output_type": "stream",
          "text": [
            "The company iNeuron offers total 12 different types of courses. Most trending course is Data-Science\n"
          ],
          "name": "stdout"
        }
      ]
    },
    {
      "cell_type": "code",
      "metadata": {
        "id": "sV1tBSHkrME9"
      },
      "source": [
        "import sqlite3\n",
        "\n",
        "class DataBaseOperations:\n",
        "\n",
        "    def __init__(self,databasename):\n",
        "        \n",
        "        self.databasename = databasename\n",
        "\n",
        "    def createDatabase(self):\n",
        "        try:\n",
        "            conn = sqlite3.connect(self.databasename)\n",
        "        except ConnectionError:\n",
        "            raise ConnectionError\n",
        "        return conn\n",
        "\n",
        "    def createTable(self,tablename,dictionaryOfcolumnNamesAndcolumnDatatypes):\n",
        "        try:\n",
        "            conn = self.createDatabase()\n",
        "            c = conn.cursor()\n",
        "            for key in dictionaryOfcolumnNamesAndcolumnDatatypes.keys():\n",
        "                datatype = dictionaryOfcolumnNamesAndcolumnDatatypes[key]\n",
        "                try:\n",
        "                    conn.execute(\n",
        "                        'ALTER TABLE {tableName} ADD COLUMN \"{column_name}\" {dataType}'.format(tableName=tablename,\n",
        "                                                                                               column_name=key,\n",
        "                                                                                               dataType=datatype))\n",
        "                except:\n",
        "                    conn.execute('CREATE TABLE {tableName} ({column_name} {dataType})'.format(tableName=tablename,\n",
        "                                                                                              column_name=key,\n",
        "                                                                                              dataType=datatype))\n",
        "            print(\"Table {0} created in database {1}\".format(tablename,self.databasename))\n",
        "            self.closeDbConnection(conn)\n",
        "            print(\"Connection to database closed!!\")\n",
        "        except Exception as e:\n",
        "            conn.rollback()\n",
        "            self.closeDbConnection(conn)\n",
        "            print(\"Connection to database closed!!\")\n",
        "\n",
        "            print(\"Exception occured: \" + str(e))\n",
        "\n",
        "    def insertIntoTable(self,tablename, listOfvaluesToInsert):\n",
        "        try:\n",
        "            conn = self.createDatabase()\n",
        "            conn.execute('INSERT INTO {tablename}  values ({values})'.format(tablename = tablename,values=(listOfvaluesToInsert)))\n",
        "            conn.commit()\n",
        "            print(\"Values Inserted Successfully!!!\")\n",
        "            self.closeDbConnection(conn)\n",
        "            print(\"Connection to database closed!!\")\n",
        "        except Exception as e:\n",
        "            conn.rollback()\n",
        "            self.closeDbConnection(conn)\n",
        "            print(\"Connection to database closed!!\")\n",
        "            print(\"Error occured: \" + str(e))\n",
        "\n",
        "        # self.closeDbconnection()\n",
        "    \n",
        "    def selectFromTable(self,tablename):\n",
        "\n",
        "        try:\n",
        "            conn = self.createDatabase()\n",
        "            c = conn.cursor()\n",
        "            c.execute(\"SELECT *  FROM {table}\".format(table=tablename))\n",
        "            print(\"values in table : \" ,c.fetchall())\n",
        "            self.closeDbConnection(conn)\n",
        "            print(\"Connection to database closed!!\")\n",
        "            \n",
        "        except Exception as e:\n",
        "            self.closeDbConnection(conn)\n",
        "            print(\"Connection to database closed!!\")\n",
        "            print(\"Error occured: \" + str(e))\n",
        "    \n",
        "    def closeDbConnection(self,connection):\n",
        "       \n",
        "        connection.close()"
      ],
      "execution_count": null,
      "outputs": []
    },
    {
      "cell_type": "code",
      "metadata": {
        "id": "34ZISsLyrME9"
      },
      "source": [
        "class StudentMarks(DataBaseOperations): # inheriting the DatabaseOperation class\n",
        "    \n",
        "    def __init__ (self, ID, RollNumber, Marks):\n",
        "        \n",
        "        self.id= ID\n",
        "        self.RollNum = RollNumber\n",
        "        self.Marks = Marks\n",
        "        self.databasename = \"StudentDetails\""
      ],
      "execution_count": null,
      "outputs": []
    },
    {
      "cell_type": "code",
      "metadata": {
        "id": "xs04UWirrME-"
      },
      "source": [
        "student1 = StudentMarks(23,34,76)"
      ],
      "execution_count": null,
      "outputs": []
    },
    {
      "cell_type": "code",
      "metadata": {
        "id": "NrrxiTMkrME-"
      },
      "source": [
        "student1.createDatabase()"
      ],
      "execution_count": null,
      "outputs": []
    },
    {
      "cell_type": "code",
      "metadata": {
        "id": "7Rx4XgbnrME-"
      },
      "source": [
        "#encaptulation "
      ],
      "execution_count": null,
      "outputs": []
    },
    {
      "cell_type": "code",
      "metadata": {
        "id": "xU6APQ6zrME-"
      },
      "source": [
        "class test:\n",
        "    def __init__(self, a,b,c):\n",
        "        self.a =a \n",
        "        self.b = b\n",
        "        self.c = c \n",
        "        \n",
        "    def __str__(self):\n",
        "        return \"this is the return form my test class \"\n",
        "\n",
        "    \n",
        "class test1 :\n",
        "    def __init__(self, a,b,c):\n",
        "        self.a =a \n",
        "        self.b = b\n",
        "        self.c = c \n",
        "        \n",
        "    def __str__(self):\n",
        "        return \"this is the return form my test1 class \"\n",
        "    \n",
        "class test2:\n",
        "    \n",
        "    def __init__(self, a,b,c):\n",
        "        self.a = a \n",
        "        self.b = b\n",
        "        self.c = c \n",
        "        \n",
        "    def __str__(self):\n",
        "        return \"this is the return form my test2 class \"\n",
        "\n",
        "class final:\n",
        "    \n",
        "    def __init__(self,x,y,z):\n",
        "        self.x= x\n",
        "        self.y= y\n",
        "        self.z = z\n",
        "        \n",
        "    def __str__(self) : \n",
        "        \n",
        "        return str(self.x) + \"  \" + str(self.y) + \"  \" + str(self.z)\n"
      ],
      "execution_count": null,
      "outputs": []
    },
    {
      "cell_type": "code",
      "metadata": {
        "id": "kjWC1Me4rME_"
      },
      "source": [
        "t= test(4,5,6)\n",
        "t1 = test1(3,4,5)\n",
        "t2 = test2(5,6,7)\n",
        "f = final(t,t1,\"sudh\")\n"
      ],
      "execution_count": null,
      "outputs": []
    },
    {
      "cell_type": "code",
      "metadata": {
        "id": "9ovyXD6arME_",
        "outputId": "ac1b1a14-dfad-429c-bae5-27a17a3376f0"
      },
      "source": [
        "print(f)"
      ],
      "execution_count": null,
      "outputs": [
        {
          "output_type": "stream",
          "text": [
            "this is the return form my test class   this is the return form my test1 class   sudh\n"
          ],
          "name": "stdout"
        }
      ]
    },
    {
      "cell_type": "code",
      "metadata": {
        "id": "Y6ifA_gMrME_"
      },
      "source": [
        ""
      ],
      "execution_count": null,
      "outputs": []
    }
  ]
}